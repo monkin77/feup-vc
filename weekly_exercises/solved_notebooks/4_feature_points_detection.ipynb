{
 "cells": [
  {
   "cell_type": "markdown",
   "metadata": {},
   "source": [
    "# Feature Points Detection"
   ]
  },
  {
   "cell_type": "code",
   "execution_count": 1,
   "metadata": {},
   "outputs": [],
   "source": [
    "import numpy as np\n",
    "import cv2\n",
    "import matplotlib.pyplot as plt\n",
    "import os\n",
    "\n",
    "imagesDir = '../data/images' # Change this, according to your images' directory path"
   ]
  },
  {
   "cell_type": "code",
   "execution_count": 2,
   "metadata": {},
   "outputs": [
    {
     "data": {
      "image/png": "[encoded data removed]",
      "text/plain": [
       "<Figure size 432x288 with 1 Axes>"
      ]
     },
     "metadata": {
      "needs_background": "light"
     },
     "output_type": "display_data"
    }
   ],
   "source": [
    "filename = 'corners_01.jpg'\n",
    "img = cv2.imread(os.path.join(imagesDir, filename))\n",
    "plt.imshow(img, cmap='gray')\n",
    "plt.title('Original Image')\n",
    "plt.axis('off')\n",
    "plt.show()\n",
    "\n",
    "og_img = img.copy() # let's copy the image to be able to use it later without having to read it again"
   ]
  },
  {
   "cell_type": "markdown",
   "metadata": {},
   "source": [
    "## Corner Detection"
   ]
  },
  {
   "cell_type": "markdown",
   "metadata": {},
   "source": [
    "[Harris Corner Detector](https://docs.opencv.org/4.x/dd/d1a/group__imgproc__feature.html#gac1fc3598018010880e370e2f709b4345)"
   ]
  },
  {
   "cell_type": "code",
   "execution_count": 4,
   "metadata": {},
   "outputs": [
    {
     "data": {
      "image/png": "[encoded data removed]",
      "text/plain": [
       "<Figure size 432x288 with 1 Axes>"
      ]
     },
     "metadata": {
      "needs_background": "light"
     },
     "output_type": "display_data"
    }
   ],
   "source": [
    "gray = cv2.cvtColor(img, cv2.COLOR_BGR2GRAY)\n",
    "gray = np.float32(gray)\n",
    "\n",
    "neighbourhood = 2\n",
    "aperture = 3\n",
    "free_param = 0.04\n",
    "dst = cv2.cornerHarris(gray, neighbourhood, aperture, free_param)\n",
    "\n",
    "# result is dilated for marking the corners, not important\n",
    "dst = cv2.dilate(dst, None)\n",
    "\n",
    "# Threshold for an optimal value, it may vary depending on the image\n",
    "thr = 0.01\n",
    "\n",
    "img[dst > thr*dst.max()] = [0,0,255]\n",
    "\n",
    "# convert to RGB for plotting with matplotlib\n",
    "out = cv2.cvtColor(img, cv2.COLOR_BGR2RGB)\n",
    "\n",
    "plt.imshow(out)\n",
    "plt.title('Harris Corner Detection')\n",
    "plt.axis('off')\n",
    "plt.show()"
   ]
  },
  {
   "cell_type": "markdown",
   "metadata": {},
   "source": [
    "[Shi-Tomasi Corner Detector](https://docs.opencv.org/4.x/dd/d1a/group__imgproc__feature.html#ga1d6bb77486c8f92d79c8793ad995d541)"
   ]
  },
  {
   "cell_type": "code",
   "execution_count": null,
   "metadata": {},
   "outputs": [],
   "source": [
    "max_corners = 200\n",
    "quality = 0.01\n",
    "mindist = 10\n",
    "corners = cv2.goodFeaturesToTrack(gray, max_corners, quality, mindist, blockSize=neighbourhood, k=free_param)\n",
    "corners = np.int0(corners)\n",
    "\n",
    "img2 = og_img.copy()\n",
    "for i in corners:\n",
    "    x,y = i.ravel()\n",
    "    cv2.circle(img2, (x,y), 3, 255, -1)\n",
    "    \n",
    "plt.imshow(img2)\n",
    "plt.title('Shi-Tomasi Corner Detection')\n",
    "plt.axis('off')\n",
    "plt.show()"
   ]
  },
  {
   "cell_type": "markdown",
   "metadata": {},
   "source": [
    "[FAST Corner Detector](https://docs.opencv.org/4.x/df/d74/classcv_1_1FastFeatureDetector.html)"
   ]
  },
  {
   "cell_type": "code",
   "execution_count": null,
   "metadata": {},
   "outputs": [],
   "source": [
    "# Initiate FAST object with default values\n",
    "fast = cv2.FastFeatureDetector_create()\n",
    "\n",
    "# find and draw the keypoints\n",
    "kp = fast.detect(og_img, None)\n",
    "img3 = cv2.drawKeypoints(og_img, kp, None, color=(255,0,0))\n",
    "\n",
    "# Print all default params\n",
    "print(\"Threshold: {}\".format(fast.getThreshold()))\n",
    "print(\"NMS:{}\".format(fast.getNonmaxSuppression()))\n",
    "print(\"Neighborhood: {}\".format(fast.getType()))\n",
    "print(\"Total Keypoints with NMS: {}\".format(len(kp)))\n",
    "\n",
    "plt.imshow(img3)\n",
    "plt.title('FAST Corner Detection w/ NMS')\n",
    "plt.axis('off')\n",
    "plt.show()\n",
    "\n",
    "# Disable NMS\n",
    "fast.setNonmaxSuppression(0)\n",
    "kp = fast.detect(og_img, None)\n",
    "print(\"Total Keypoints without NMS: {}\".format(len(kp)))\n",
    "img4 = cv2.drawKeypoints(og_img, kp, None, color=(255,0,0))\n",
    "\n",
    "plt.imshow(img4)\n",
    "plt.title('FAST Corner Detection w/o NMS')\n",
    "plt.axis('off')\n",
    "plt.show()"
   ]
  },
  {
   "cell_type": "markdown",
   "metadata": {},
   "source": [
    "## Blob Detection"
   ]
  },
  {
   "cell_type": "markdown",
   "metadata": {},
   "source": [
    "[SIFT Blob Detector](https://docs.opencv.org/4.x/d7/d60/classcv_1_1SIFT.html)"
   ]
  },
  {
   "cell_type": "code",
   "execution_count": null,
   "metadata": {},
   "outputs": [],
   "source": [
    "new_img = cv2.imread(os.path.join(imagesDir, 'stitch_building01_1.png'))\n",
    "gray = cv2.cvtColor(new_img, cv2.COLOR_BGR2GRAY)\n",
    "\n",
    "plt.imshow(gray, cmap='gray')\n",
    "plt.title('Original image')\n",
    "plt.axis('off')\n",
    "plt.show()"
   ]
  },
  {
   "cell_type": "code",
   "execution_count": null,
   "metadata": {},
   "outputs": [],
   "source": [
    "# Initiate SIFT detector\n",
    "sift = cv2.SIFT_create()\n",
    "\n",
    "# find the keypoints\n",
    "kp = sift.detect(gray,None)\n",
    "\n",
    "# draw the keypoints (with size and orientation)\n",
    "sift_img = cv2.drawKeypoints(gray, kp, new_img, (-1, -1, -1), flags=cv2.DRAW_MATCHES_FLAGS_DRAW_RICH_KEYPOINTS)\n",
    "\n",
    "plt.imshow(sift_img)\n",
    "plt.title('SIFT')\n",
    "plt.axis('off')\n",
    "plt.show()"
   ]
  },
  {
   "cell_type": "markdown",
   "metadata": {},
   "source": [
    "[Orb Blob Detector](https://docs.opencv.org/4.x/db/d95/classcv_1_1ORB.html)"
   ]
  },
  {
   "cell_type": "code",
   "execution_count": null,
   "metadata": {},
   "outputs": [],
   "source": [
    "# Initiate ORB detector\n",
    "orb = cv2.ORB_create()\n",
    "\n",
    "# find the keypoints with ORB\n",
    "kp = orb.detect(new_img, None)\n",
    "\n",
    "# compute the descriptors with ORB\n",
    "kp, des = orb.compute(new_img, kp)\n",
    "\n",
    "# draw only keypoints location, not size and orientation\n",
    "orb_img = cv2.drawKeypoints(new_img, kp, None, (-1, -1, -1), flags=cv2.DRAW_MATCHES_FLAGS_DRAW_RICH_KEYPOINTS)\n",
    "\n",
    "plt.imshow(orb_img)\n",
    "plt.title('Orb')\n",
    "plt.axis('off')\n",
    "plt.show()"
   ]
  },
  {
   "cell_type": "markdown",
   "metadata": {},
   "source": [
    "## Matching"
   ]
  },
  {
   "cell_type": "code",
   "execution_count": null,
   "metadata": {},
   "outputs": [],
   "source": [
    "query = cv2.imread(os.path.join(imagesDir, 'match_box01a_1.png'), cv2.IMREAD_GRAYSCALE) # queryImage\n",
    "train = cv2.imread(os.path.join(imagesDir, 'match_box01a_2.png'), cv2.IMREAD_GRAYSCALE) # trainImage\n",
    "\n",
    "plt.imshow(query, cmap='gray')\n",
    "plt.title('Query Image')\n",
    "plt.axis('off')\n",
    "plt.show()\n",
    "\n",
    "plt.imshow(train, cmap='gray')\n",
    "plt.title('Train Image')\n",
    "plt.axis('off')\n",
    "plt.show()\n",
    "\n",
    "plt.show()"
   ]
  },
  {
   "cell_type": "code",
   "execution_count": null,
   "metadata": {},
   "outputs": [],
   "source": [
    "# Initiate ORB detector\n",
    "orb = cv2.ORB_create()\n",
    "\n",
    "# find the keypoints and descriptors with ORB\n",
    "kp1, des1 = orb.detectAndCompute(query, None)\n",
    "kp2, des2 = orb.detectAndCompute(train, None)"
   ]
  },
  {
   "cell_type": "code",
   "execution_count": null,
   "metadata": {},
   "outputs": [],
   "source": [
    "# create a Brute Force Matcher object\n",
    "bf = cv2.BFMatcher(cv2.NORM_HAMMING, crossCheck=True)\n",
    "\n",
    "# Match descriptors.\n",
    "matches = bf.match(des1,des2)\n",
    "\n",
    "# Sort them in the order of their distance.\n",
    "matches = sorted(matches, key = lambda x:x.distance)\n",
    "\n",
    "# Draw first 10 matches.\n",
    "match_output = cv2.drawMatches(query, kp1, train, kp2, matches[:10], None, flags=cv2.DrawMatchesFlags_NOT_DRAW_SINGLE_POINTS)\n",
    "\n",
    "plt.imshow(match_output)\n",
    "plt.title('Match Result')\n",
    "plt.axis('off')\n",
    "plt.show()"
   ]
  }
 ],
 "metadata": {
  "interpreter": {
   "hash": "aee8b7b246df8f9039afb4144a1f6fd8d2ca17a180786b69acc140d282b71a49"
  },
  "kernelspec": {
   "display_name": "Python 3.9.1 64-bit",
   "language": "python",
   "name": "python3"
  },
  "language_info": {
   "codemirror_mode": {
    "name": "ipython",
    "version": 3
   },
   "file_extension": ".py",
   "mimetype": "text/x-python",
   "name": "python",
   "nbconvert_exporter": "python",
   "pygments_lexer": "ipython3",
   "version": "3.8.2"
  },
  "orig_nbformat": 4
 },
 "nbformat": 4,
 "nbformat_minor": 2
}
