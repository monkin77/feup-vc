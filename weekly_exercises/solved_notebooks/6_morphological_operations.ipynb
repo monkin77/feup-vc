{
 "cells": [
  {
   "cell_type": "markdown",
   "metadata": {},
   "source": [
    "# Morphological Operations"
   ]
  },
  {
   "cell_type": "code",
   "execution_count": null,
   "metadata": {},
   "outputs": [],
   "source": [
    "import cv2\n",
    "import numpy as np\n",
    "import os\n",
    "from matplotlib import pyplot as plt\n",
    "\n",
    "dataDir = 'Images' # Change this, according to your images' directory path"
   ]
  },
  {
   "cell_type": "code",
   "execution_count": null,
   "metadata": {},
   "outputs": [],
   "source": [
    "letter = cv2.imread(os.path.join(dataDir, 'j.png')) # Change this, according to your image's path\n",
    "kernel = np.ones((5,5), np.uint8)\n",
    "\n",
    "plt.imshow(letter)\n",
    "plt.title('Original Image')\n",
    "plt.axis('off')\n",
    "plt.show()"
   ]
  },
  {
   "cell_type": "markdown",
   "metadata": {},
   "source": [
    "### Erosion\n",
    "\n",
    "This operation erodes away the foreground images' boundaries, meaning that all the pixels near the boundary will be discarded depending upon the size of the kernel. As a result, the thickness or size of the foreground object decreases."
   ]
  },
  {
   "cell_type": "code",
   "execution_count": null,
   "metadata": {},
   "outputs": [],
   "source": [
    "erosionOp = cv2.erode(letter, kernel, iterations = 1)\n",
    "\n",
    "plt.imshow(erosionOp)\n",
    "plt.title('After Erosion')\n",
    "plt.axis('off')\n",
    "plt.show()"
   ]
  },
  {
   "cell_type": "markdown",
   "metadata": {},
   "source": [
    "### Dilation\n",
    "\n",
    "This operation is the reverse of erosion. It increases the size of the foreground object(s) in the image (or it simply increases the size of the white region). This happens because a pixel element is 1 if at least one of the kernel's pixels is 1."
   ]
  },
  {
   "cell_type": "code",
   "execution_count": null,
   "metadata": {},
   "outputs": [],
   "source": [
    "dilationOp = cv2.dilate(letter, kernel, iterations = 1)\n",
    "\n",
    "plt.imshow(dilationOp)\n",
    "plt.title('After Dilation')\n",
    "plt.axis('off')\n",
    "plt.show()"
   ]
  },
  {
   "cell_type": "markdown",
   "metadata": {},
   "source": [
    "### Opening\n",
    "\n",
    "Opening is the name given for the combination of erosion and dilation (in this order). This operation can be used for noise removal purposes. Erosion will remove all the noisy white spots, but it also shrinks the foreground object(s) in the image. So, by applying dilation after erosion, our object(s) return to their original dimension(s). The opening operation can also be useful in joining broken parts of an object."
   ]
  },
  {
   "cell_type": "code",
   "execution_count": null,
   "metadata": {},
   "outputs": [],
   "source": [
    "noisyLetterBg = cv2.imread(os.path.join(dataDir, 'jWithNoiseBg.png'))\n",
    "\n",
    "plt.imshow(noisyLetterBg)\n",
    "plt.title('Original Noisy Image')\n",
    "plt.axis('off')\n",
    "plt.show()\n",
    "\n",
    "# Opening = erosion followed by dilation\n",
    "openingOp = cv2.morphologyEx(noisyLetterBg, cv2.MORPH_OPEN, kernel)\n",
    "\n",
    "plt.imshow(openingOp)\n",
    "plt.title('After Opening')\n",
    "plt.axis('off')\n",
    "plt.show()"
   ]
  },
  {
   "cell_type": "markdown",
   "metadata": {},
   "source": [
    "### Closing\n",
    "\n",
    "Closing applies the same operations as the opening operation but in reverse order (i.e., dilation followed by erosion). This operation is useful for removing spots within the foreground."
   ]
  },
  {
   "cell_type": "code",
   "execution_count": null,
   "metadata": {},
   "outputs": [],
   "source": [
    "noisyLetterFg = cv2.imread(os.path.join(dataDir, 'jWithNoiseFg.png'))\n",
    "\n",
    "plt.imshow(noisyLetterFg)\n",
    "plt.title('Original Noisy Image')\n",
    "plt.axis('off')\n",
    "plt.show()\n",
    "\n",
    "# Closing = reverse of opening, i.e. dilation followed by erosion\n",
    "closingOp = cv2.morphologyEx(noisyLetterFg, cv2.MORPH_CLOSE, kernel)\n",
    "\n",
    "plt.imshow(closingOp)\n",
    "plt.title('After Closing')\n",
    "plt.axis('off')\n",
    "plt.show()"
   ]
  },
  {
   "cell_type": "markdown",
   "metadata": {},
   "source": [
    "### Morphological Gradient\n",
    "\n",
    "The morphological gradient is the difference between the dilation and erosion of an image. "
   ]
  },
  {
   "cell_type": "code",
   "execution_count": null,
   "metadata": {},
   "outputs": [],
   "source": [
    "gradientOp = cv2.morphologyEx(letter, cv2.MORPH_GRADIENT, kernel)\n",
    "\n",
    "plt.imshow(gradientOp)\n",
    "plt.title('After Gradient')\n",
    "plt.axis('off')\n",
    "plt.show()"
   ]
  },
  {
   "cell_type": "markdown",
   "metadata": {},
   "source": [
    "### Top Hat\n",
    "\n",
    "This operation is the difference between the input image and the opening of that image."
   ]
  },
  {
   "cell_type": "code",
   "execution_count": null,
   "metadata": {},
   "outputs": [],
   "source": [
    "kernelHat = np.ones((9,9), np.uint8)\n",
    "topHatOp = cv2.morphologyEx(letter, cv2.MORPH_TOPHAT, kernelHat)\n",
    "\n",
    "plt.imshow(topHatOp)\n",
    "plt.title('After Top Hat')\n",
    "plt.axis('off')\n",
    "plt.show()"
   ]
  },
  {
   "cell_type": "markdown",
   "metadata": {},
   "source": [
    "### Black Hat\n",
    "\n",
    "This operation is the difference between the closing of the input image and the image."
   ]
  },
  {
   "cell_type": "code",
   "execution_count": null,
   "metadata": {},
   "outputs": [],
   "source": [
    "blackHatOp = cv2.morphologyEx(letter, cv2.MORPH_BLACKHAT, kernelHat)\n",
    "\n",
    "plt.imshow(blackHatOp)\n",
    "plt.title('After Black Hat')\n",
    "plt.axis('off')\n",
    "plt.show()"
   ]
  }
 ],
 "metadata": {
  "interpreter": {
   "hash": "aee8b7b246df8f9039afb4144a1f6fd8d2ca17a180786b69acc140d282b71a49"
  },
  "kernelspec": {
   "display_name": "Python 3.9.1 64-bit",
   "language": "python",
   "name": "python3"
  },
  "language_info": {
   "codemirror_mode": {
    "name": "ipython",
    "version": 3
   },
   "file_extension": ".py",
   "mimetype": "text/x-python",
   "name": "python",
   "nbconvert_exporter": "python",
   "pygments_lexer": "ipython3",
   "version": "3.9.1"
  },
  "orig_nbformat": 4
 },
 "nbformat": 4,
 "nbformat_minor": 2
}
