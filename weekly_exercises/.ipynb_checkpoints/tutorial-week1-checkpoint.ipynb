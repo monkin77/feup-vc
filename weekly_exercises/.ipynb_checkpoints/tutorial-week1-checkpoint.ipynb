{
 "cells": [
  {
   "cell_type": "markdown",
   "metadata": {},
   "source": [
    "# Week 1: Introduction to OpenCV"
   ]
  },
  {
   "cell_type": "code",
   "execution_count": 1,
   "metadata": {},
   "outputs": [
    {
     "name": "stdout",
     "output_type": "stream",
     "text": [
      "Requirement already satisfied: opencv-python in c:\\python38\\lib\\site-packages (4.5.4.58)\n",
      "Requirement already satisfied: numpy>=1.17.3 in c:\\python38\\lib\\site-packages (from opencv-python) (1.21.0)\n",
      "Requirement already satisfied: numpy in c:\\python38\\lib\\site-packages (1.21.0)\n"
     ]
    }
   ],
   "source": [
    "# Requirements for this tutorial\n",
    "! pip install opencv-python\n",
    "! pip install numpy"
   ]
  },
  {
   "cell_type": "code",
   "execution_count": 2,
   "metadata": {},
   "outputs": [
    {
     "name": "stdout",
     "output_type": "stream",
     "text": [
      "Collecting nbconvert\n",
      "  Downloading nbconvert-7.2.9-py3-none-any.whl (274 kB)\n",
      "     ------------------------------------ 274.9/274.9 kB 325.9 kB/s eta 0:00:00\n",
      "Requirement already satisfied: jinja2>=3.0 in c:\\python38\\lib\\site-packages (from nbconvert) (3.0.1)\n",
      "Requirement already satisfied: markupsafe>=2.0 in c:\\python38\\lib\\site-packages (from nbconvert) (2.0.1)\n",
      "Collecting nbformat>=5.1\n",
      "  Downloading nbformat-5.7.3-py3-none-any.whl (78 kB)\n",
      "     -------------------------------------- 78.1/78.1 kB 722.0 kB/s eta 0:00:00\n",
      "Requirement already satisfied: packaging in c:\\users\\joaog\\appdata\\roaming\\python\\python38\\site-packages (from nbconvert) (21.3)\n",
      "Collecting tinycss2\n",
      "  Downloading tinycss2-1.2.1-py3-none-any.whl (21 kB)\n",
      "Collecting bleach\n",
      "  Downloading bleach-6.0.0-py3-none-any.whl (162 kB)\n",
      "     -------------------------------------- 162.5/162.5 kB 3.2 MB/s eta 0:00:00\n",
      "Requirement already satisfied: traitlets>=5.0 in c:\\users\\joaog\\appdata\\roaming\\python\\python38\\site-packages (from nbconvert) (5.2.2.post1)\n",
      "Collecting beautifulsoup4\n",
      "  Downloading beautifulsoup4-4.11.2-py3-none-any.whl (129 kB)\n",
      "     -------------------------------------- 129.4/129.4 kB 3.7 MB/s eta 0:00:00\n",
      "Requirement already satisfied: pygments>=2.4.1 in c:\\users\\joaog\\appdata\\roaming\\python\\python38\\site-packages (from nbconvert) (2.12.0)\n",
      "Collecting pandocfilters>=1.4.1\n",
      "  Downloading pandocfilters-1.5.0-py2.py3-none-any.whl (8.7 kB)\n",
      "Collecting defusedxml\n",
      "  Downloading defusedxml-0.7.1-py2.py3-none-any.whl (25 kB)\n",
      "Collecting jupyterlab-pygments\n",
      "  Downloading jupyterlab_pygments-0.2.2-py2.py3-none-any.whl (21 kB)\n",
      "Collecting nbclient>=0.5.0\n",
      "  Downloading nbclient-0.7.2-py3-none-any.whl (71 kB)\n",
      "     ---------------------------------------- 72.0/72.0 kB 3.9 MB/s eta 0:00:00\n",
      "Collecting mistune<3,>=2.0.3\n",
      "  Downloading mistune-2.0.5-py2.py3-none-any.whl (24 kB)\n",
      "Collecting importlib-metadata>=3.6\n",
      "  Downloading importlib_metadata-6.0.0-py3-none-any.whl (21 kB)\n",
      "Requirement already satisfied: jupyter-core>=4.7 in c:\\users\\joaog\\appdata\\roaming\\python\\python38\\site-packages (from nbconvert) (4.10.0)\n",
      "Collecting zipp>=0.5\n",
      "  Downloading zipp-3.12.1-py3-none-any.whl (6.7 kB)\n",
      "Requirement already satisfied: pywin32>=1.0 in c:\\python38\\lib\\site-packages (from jupyter-core>=4.7->nbconvert) (301)\n",
      "Collecting jupyter-core>=4.7\n",
      "  Downloading jupyter_core-5.2.0-py3-none-any.whl (94 kB)\n",
      "     -------------------------------------- 94.3/94.3 kB 894.5 kB/s eta 0:00:00\n",
      "Requirement already satisfied: jupyter-client>=6.1.12 in c:\\users\\joaog\\appdata\\roaming\\python\\python38\\site-packages (from nbclient>=0.5.0->nbconvert) (7.3.1)\n",
      "Collecting traitlets>=5.0\n",
      "  Downloading traitlets-5.9.0-py3-none-any.whl (117 kB)\n",
      "     -------------------------------------- 117.4/117.4 kB 1.7 MB/s eta 0:00:00\n",
      "Collecting platformdirs>=2.5\n",
      "  Downloading platformdirs-3.0.0-py3-none-any.whl (14 kB)\n",
      "Requirement already satisfied: jsonschema>=2.6 in c:\\python38\\lib\\site-packages (from nbformat>=5.1->nbconvert) (3.2.0)\n",
      "Collecting fastjsonschema\n",
      "  Downloading fastjsonschema-2.16.2-py3-none-any.whl (22 kB)\n",
      "Collecting soupsieve>1.2\n",
      "  Downloading soupsieve-2.3.2.post1-py3-none-any.whl (37 kB)\n",
      "Requirement already satisfied: six>=1.9.0 in c:\\users\\joaog\\appdata\\roaming\\python\\python38\\site-packages (from bleach->nbconvert) (1.15.0)\n",
      "Collecting webencodings\n",
      "  Using cached webencodings-0.5.1-py2.py3-none-any.whl (11 kB)\n",
      "Requirement already satisfied: pyparsing!=3.0.5,>=2.0.2 in c:\\users\\joaog\\appdata\\roaming\\python\\python38\\site-packages (from packaging->nbconvert) (3.0.9)\n",
      "Requirement already satisfied: pyrsistent>=0.14.0 in c:\\python38\\lib\\site-packages (from jsonschema>=2.6->nbformat>=5.1->nbconvert) (0.18.0)\n",
      "Requirement already satisfied: attrs>=17.4.0 in c:\\python38\\lib\\site-packages (from jsonschema>=2.6->nbformat>=5.1->nbconvert) (21.2.0)\n",
      "Requirement already satisfied: setuptools in c:\\python38\\lib\\site-packages (from jsonschema>=2.6->nbformat>=5.1->nbconvert) (41.2.0)\n",
      "Requirement already satisfied: python-dateutil>=2.8.2 in c:\\python38\\lib\\site-packages (from jupyter-client>=6.1.12->nbclient>=0.5.0->nbconvert) (2.8.2)\n",
      "Requirement already satisfied: nest-asyncio>=1.5.4 in c:\\users\\joaog\\appdata\\roaming\\python\\python38\\site-packages (from jupyter-client>=6.1.12->nbclient>=0.5.0->nbconvert) (1.5.5)\n",
      "Requirement already satisfied: tornado>=6.0 in c:\\users\\joaog\\appdata\\roaming\\python\\python38\\site-packages (from jupyter-client>=6.1.12->nbclient>=0.5.0->nbconvert) (6.1)\n",
      "Requirement already satisfied: entrypoints in c:\\users\\joaog\\appdata\\roaming\\python\\python38\\site-packages (from jupyter-client>=6.1.12->nbclient>=0.5.0->nbconvert) (0.4)\n",
      "Requirement already satisfied: pyzmq>=22.3 in c:\\users\\joaog\\appdata\\roaming\\python\\python38\\site-packages (from jupyter-client>=6.1.12->nbclient>=0.5.0->nbconvert) (23.1.0)\n",
      "Installing collected packages: webencodings, mistune, fastjsonschema, zipp, traitlets, tinycss2, soupsieve, platformdirs, pandocfilters, jupyterlab-pygments, defusedxml, bleach, jupyter-core, importlib-metadata, beautifulsoup4, nbformat, nbclient, nbconvert\n",
      "  Attempting uninstall: traitlets\n",
      "    Found existing installation: traitlets 5.2.2.post1\n",
      "    Uninstalling traitlets-5.2.2.post1:\n",
      "      Successfully uninstalled traitlets-5.2.2.post1\n",
      "  Attempting uninstall: jupyter-core\n",
      "    Found existing installation: jupyter-core 4.10.0\n",
      "    Uninstalling jupyter-core-4.10.0:\n",
      "      Successfully uninstalled jupyter-core-4.10.0\n",
      "Successfully installed beautifulsoup4-4.11.2 bleach-6.0.0 defusedxml-0.7.1 fastjsonschema-2.16.2 importlib-metadata-6.0.0 jupyter-core-5.2.0 jupyterlab-pygments-0.2.2 mistune-2.0.5 nbclient-0.7.2 nbconvert-7.2.9 nbformat-5.7.3 pandocfilters-1.5.0 platformdirs-3.0.0 soupsieve-2.3.2.post1 tinycss2-1.2.1 traitlets-5.9.0 webencodings-0.5.1 zipp-3.12.1\n"
     ]
    },
    {
     "name": "stderr",
     "output_type": "stream",
     "text": [
      "[NbConvertApp] Converting notebook tutorial-week1.ipynb to script\n",
      "[NbConvertApp] Writing 2698 bytes to tutorial-week1.py\n"
     ]
    }
   ],
   "source": [
    "# If you prefer, you can convert this notebook to a Python script by uncommenting the following command\n",
    "! pip install nbconvert\n",
    "! jupyter nbconvert --to script tutorial-week1.ipynb"
   ]
  },
  {
   "cell_type": "code",
   "execution_count": 3,
   "metadata": {},
   "outputs": [
    {
     "ename": "ModuleNotFoundError",
     "evalue": "No module named 'cv2'",
     "output_type": "error",
     "traceback": [
      "\u001b[1;31m---------------------------------------------------------------------------\u001b[0m",
      "\u001b[1;31mModuleNotFoundError\u001b[0m                       Traceback (most recent call last)",
      "Input \u001b[1;32mIn [3]\u001b[0m, in \u001b[0;36m<cell line: 1>\u001b[1;34m()\u001b[0m\n\u001b[1;32m----> 1\u001b[0m \u001b[38;5;28;01mimport\u001b[39;00m \u001b[38;5;21;01mcv2\u001b[39;00m\n\u001b[0;32m      2\u001b[0m \u001b[38;5;28;01mimport\u001b[39;00m \u001b[38;5;21;01mnumpy\u001b[39;00m \u001b[38;5;28;01mas\u001b[39;00m \u001b[38;5;21;01mnp\u001b[39;00m\n\u001b[0;32m      3\u001b[0m \u001b[38;5;28;01mimport\u001b[39;00m \u001b[38;5;21;01mos\u001b[39;00m\n",
      "\u001b[1;31mModuleNotFoundError\u001b[0m: No module named 'cv2'"
     ]
    }
   ],
   "source": [
    "import cv2\n",
    "import numpy as np\n",
    "import os\n",
    "\n",
    "dataDir = './data'"
   ]
  },
  {
   "cell_type": "markdown",
   "metadata": {},
   "source": [
    "1. Images – read, write and display; ROIs"
   ]
  },
  {
   "cell_type": "code",
   "execution_count": null,
   "metadata": {},
   "outputs": [],
   "source": [
    "# Opening an image\n",
    "img = cv2.imread(os.path.join(dataDir, 'ml.jpg'))\n",
    "\n",
    "# Showing the image\n",
    "cv2.imshow(\"ml.jpg\", img)\n",
    "\n",
    "# Waiting for user to press a key to close the image\n",
    "cv2.waitKey(0)\n",
    "\n",
    "# Close the window after user pressed a key\n",
    "cv2.destroyWindow(\"ml.jpg\")"
   ]
  },
  {
   "cell_type": "code",
   "execution_count": null,
   "metadata": {},
   "outputs": [],
   "source": [
    "# Check image size\n",
    "h, w, c = img.shape\n",
    "print(f'height: {h}')\n",
    "print(f'width: {w}')\n",
    "print(f'channels: {c}')"
   ]
  },
  {
   "cell_type": "code",
   "execution_count": null,
   "metadata": {},
   "outputs": [],
   "source": [
    "# Saving image in bmp format\n",
    "cv2.imwrite('ml_new.bmp', img)"
   ]
  },
  {
   "cell_type": "code",
   "execution_count": null,
   "metadata": {},
   "outputs": [],
   "source": [
    "# Continue exercises 1 c) and d)"
   ]
  },
  {
   "cell_type": "markdown",
   "metadata": {},
   "source": [
    "2. Images – representation, grayscale and color, color spaces"
   ]
  },
  {
   "cell_type": "code",
   "execution_count": null,
   "metadata": {},
   "outputs": [],
   "source": [
    "# Create a white image\n",
    "m = np.ones((100,200,1), np.uint8)\n",
    "\n",
    "# Change the intensity to 100\n",
    "m = m * 100\n",
    "\n",
    "# Display the image\n",
    "cv2.imshow('Grayscale image', m)\n",
    "cv2.waitKey(0)\n",
    "cv2.destroyWindow('Grayscale image')"
   ]
  },
  {
   "cell_type": "code",
   "execution_count": null,
   "metadata": {},
   "outputs": [],
   "source": [
    "# Draw a line with thickness of 5 px\n",
    "cv2.line(m, (0,0), (100,200), 255, 5)\n",
    "cv2.line(m, (200, 0), (0, 100), 255, 5)\n",
    "cv2.imshow('Grayscale image with diagonals', m)\n",
    "cv2.waitKey(0)\n",
    "cv2.destroyWindow('Grayscale image with diagonals')"
   ]
  },
  {
   "cell_type": "code",
   "execution_count": null,
   "metadata": {},
   "outputs": [],
   "source": [
    "# Continue exercises 2 b), c), d), e) and f)"
   ]
  },
  {
   "cell_type": "markdown",
   "metadata": {},
   "source": [
    "3. Video – acquisition and simple processing"
   ]
  },
  {
   "cell_type": "code",
   "execution_count": null,
   "metadata": {},
   "outputs": [],
   "source": [
    "# Define a VideoCapture Object\n",
    "cap = cv2.VideoCapture(0)\n",
    "if not cap.isOpened():\n",
    "    print(\"Cannot open camera\")\n",
    "    exit()\n",
    "\n",
    "frame_nr = 0\n",
    "while True:\n",
    "    # Capture frame-by-frame\n",
    "    ret, frame = cap.read()\n",
    "    \n",
    "    # If frame is read correctly ret is True\n",
    "    if not ret:\n",
    "        print(\"Can't receive frame (stream end?). Exiting ...\")\n",
    "        break\n",
    "\n",
    "    # Display the resulting frame\n",
    "    cv2.imshow('webcam', frame)\n",
    "\n",
    "    # Wait for user to press s to save frame\n",
    "    if cv2.waitKey(1) == ord('s'):\n",
    "        frame_name = 'frame' + str(frame_nr) + '.png'\n",
    "        cv2.imwrite(frame_name, frame)\n",
    "        cv2.imshow(\"Saved frame: \" + frame_name, frame)\n",
    "        cv2.waitKey(0)\n",
    "        cv2.destroyWindow(\"Saved frame: \" + frame_name)\n",
    "\n",
    "    # Wait for user to press q to quit\n",
    "    if cv2.waitKey(1) == ord('q'):\n",
    "        break\n",
    "\n",
    "    frame_nr += 1\n",
    "\n",
    "# When everything is done, release the capture\n",
    "cap.release()\n",
    "cv2.destroyAllWindows()"
   ]
  },
  {
   "cell_type": "code",
   "execution_count": null,
   "metadata": {},
   "outputs": [],
   "source": [
    "# Continue exercises 3 b), c) and d)"
   ]
  }
 ],
 "metadata": {
  "kernelspec": {
   "display_name": "Python 3 (ipykernel)",
   "language": "python",
   "name": "python3"
  },
  "language_info": {
   "codemirror_mode": {
    "name": "ipython",
    "version": 3
   },
   "file_extension": ".py",
   "mimetype": "text/x-python",
   "name": "python",
   "nbconvert_exporter": "python",
   "pygments_lexer": "ipython3",
   "version": "3.9.12"
  }
 },
 "nbformat": 4,
 "nbformat_minor": 2
}
