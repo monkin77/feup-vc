{
 "cells": [
  {
   "cell_type": "markdown",
   "metadata": {},
   "source": [
    "# Week 1: Introduction to OpenCV"
   ]
  },
  {
   "cell_type": "code",
   "execution_count": 1,
   "metadata": {},
   "outputs": [
    {
     "name": "stdout",
     "output_type": "stream",
     "text": [
      "Collecting opencv-python\n",
      "  Downloading opencv_python-4.7.0.72-cp37-abi3-win_amd64.whl (38.2 MB)\n",
      "Requirement already satisfied: numpy>=1.19.3 in c:\\users\\monki\\anaconda3\\lib\\site-packages (from opencv-python) (1.21.5)\n",
      "Installing collected packages: opencv-python\n",
      "Successfully installed opencv-python-4.7.0.72\n",
      "Requirement already satisfied: numpy in c:\\users\\monki\\anaconda3\\lib\\site-packages (1.21.5)\n"
     ]
    }
   ],
   "source": [
    "# Requirements for this tutorial\n",
    "! pip install opencv-python\n",
    "! pip install numpy"
   ]
  },
  {
   "cell_type": "code",
   "execution_count": null,
   "metadata": {},
   "outputs": [],
   "source": [
    "# If you prefer, you can convert this notebook to a Python script by uncommenting the following command\n",
    "# ! pip install nbconvert\n",
    "# ! jupyter nbconvert --to script tutorial-week1.ipynb"
   ]
  },
  {
   "cell_type": "code",
   "execution_count": 1,
   "metadata": {},
   "outputs": [],
   "source": [
    "import cv2\n",
    "import numpy as np\n",
    "import os\n",
    "    \n",
    "dataDir = './data'"
   ]
  },
  {
   "cell_type": "markdown",
   "metadata": {},
   "source": [
    "1. Images – read, write and display; ROIs"
   ]
  },
  {
   "cell_type": "code",
   "execution_count": null,
   "metadata": {},
   "outputs": [],
   "source": [
    "# Opening an image\n",
    "img = cv2.imread(os.path.join(dataDir, 'ml.jpg'))\n",
    "\n",
    "# Showing the image\n",
    "cv2.imshow(\"ml.jpg\", img)\n",
    "\n",
    "# Waiting for user to press a key to close the image\n",
    "cv2.waitKey(0)\n",
    "\n",
    "# Close the window after user pressed a key\n",
    "cv2.destroyWindow(\"ml.jpg\")"
   ]
  },
  {
   "cell_type": "code",
   "execution_count": null,
   "metadata": {},
   "outputs": [],
   "source": [
    "# Check image size\n",
    "h, w, c = img.shape\n",
    "print(f'height: {h}')\n",
    "print(f'width: {w}')\n",
    "print(f'channels: {c}')"
   ]
  },
  {
   "cell_type": "code",
   "execution_count": null,
   "metadata": {},
   "outputs": [],
   "source": [
    "# Saving image in bmp format\n",
    "cv2.imwrite(os.path.join(dataDir, 'ml_new.bmp'), img)"
   ]
  },
  {
   "cell_type": "code",
   "execution_count": null,
   "metadata": {},
   "outputs": [],
   "source": [
    "# Continue exercises 1 c) and d)\n",
    "\n",
    "draw = False\n",
    "\n",
    "# Mouse Callback on click\n",
    "def mouseCallback(event, x, y, flags, params):\n",
    "    global draw     # use global variable draw\n",
    "\n",
    "    if event == cv2.EVENT_LBUTTONDOWN:\n",
    "        draw = True\n",
    "    if event == cv2.EVENT_LBUTTONUP:\n",
    "        draw = False\n",
    "    if event == cv2.EVENT_MOUSEMOVE:\n",
    "        # In OpenCV, the color channels are in Blue Green Red order\n",
    "        colorsB = img[y, x, 0]\n",
    "        colorsG = img[y, x, 1]\n",
    "        colorsR = img[y, x, 2]\n",
    "        print(f'x: {x}, y: {y}')\n",
    "        print(f'BGR: ({colorsB}, {colorsG}, {colorsR})')\n",
    "        # cv2.putText(img=img, text=f'BGR: ({colorsB}, {colorsG}, {colorsR})', org=(300, 300), fontFace=cv2.FONT_HERSHEY_SIMPLEX, fontScale=1, color=(0, 0, 0), thickness=2, lineType=cv2.LINE_AA)\n",
    "\n",
    "        if draw:\n",
    "            # modify rgb values\n",
    "            newColor = (255 - img[y, x, 0], 255 - img[y, x, 1], 255 - img[y, x, 2])\n",
    "            img[y, x] = newColor\n",
    "        \n",
    "            print(f'Changed pixel at x: {x}, y: {y} to {newColor}')\n",
    "            cv2.imshow(\"ex1c\", img)\n",
    "    \n",
    "# Create named window and set mouse callback\n",
    "cv2.namedWindow(\"ex1c\")\n",
    "cv2.setMouseCallback(\"ex1c\", mouseCallback)\n",
    "\n",
    "cv2.imshow(\"ex1c\", img)\n",
    "cv2.waitKey(0)\n",
    "cv2.destroyWindow(\"ex1c\")"
   ]
  },
  {
   "cell_type": "code",
   "execution_count": null,
   "metadata": {},
   "outputs": [],
   "source": [
    "# Exercise 1d)\n",
    "        \n",
    "\n",
    "# Select ROI\n",
    "r = cv2.selectROI(windowName = \"ex1d\", img=img)\n",
    "# Crop image\n",
    "imCrop = img[int(r[1]):int(r[1]+r[3]), \n",
    "                      int(r[0]):int(r[0]+r[2])]\n",
    "\n",
    "# Save cropped image to disk\n",
    "cv2.imwrite(os.path.join(dataDir, 'img_cropped.png'), imCrop)\n",
    "\n",
    "# Display cropped image\n",
    "cv2.imshow(\"ex1d\", imCrop)\n",
    "cv2.waitKey(0)\n",
    "\n",
    "cv2.destroyWindow(\"ex1d\")\n"
   ]
  },
  {
   "cell_type": "markdown",
   "metadata": {},
   "source": [
    "2. Images – representation, grayscale and color, color spaces"
   ]
  },
  {
   "cell_type": "code",
   "execution_count": null,
   "metadata": {},
   "outputs": [],
   "source": [
    "# Create a white image\n",
    "m = np.ones((100,200,1), np.uint8)\n",
    "\n",
    "# Change the intensity to 100\n",
    "m = m * 100\n",
    "\n",
    "# Display the image\n",
    "cv2.imshow('Grayscale image', m)\n",
    "cv2.waitKey(0)\n",
    "cv2.destroyWindow('Grayscale image')"
   ]
  },
  {
   "cell_type": "code",
   "execution_count": null,
   "metadata": {},
   "outputs": [],
   "source": [
    "# Draw a line with thickness of 5 px\n",
    "cv2.line(m, (0,0), (200,100), 255, 5)\n",
    "cv2.line(m, (200, 0), (0, 100), 255, 5)\n",
    "cv2.imshow('Grayscale image with diagonals', m)\n",
    "cv2.waitKey(0)\n",
    "cv2.destroyWindow('Grayscale image with diagonals')"
   ]
  },
  {
   "cell_type": "code",
   "execution_count": 4,
   "metadata": {},
   "outputs": [],
   "source": [
    "# Continue exercises 2 b), c), d), e) and f)\n",
    "# 2b)\n",
    "# Create a white image\n",
    "yellow_img = np.ones((100, 200, 3), np.uint8)\n",
    "\n",
    "# Change the color to yellow\n",
    "yellow_img[:, :] = (0, 255, 255)\n",
    "\n",
    "cv2.line(yellow_img, (0, 0), (200, 100), (0, 0, 255), 5)\n",
    "cv2.line(yellow_img, (200, 0), (0, 100), (255, 0, 0), 5)\n",
    "\n",
    "# Display the image\n",
    "cv2.imshow(\"Yellow image\", yellow_img)\n",
    "cv2.waitKey(0)\n",
    "cv2.destroyWindow(\"Yellow image\")"
   ]
  },
  {
   "cell_type": "code",
   "execution_count": 5,
   "metadata": {},
   "outputs": [
    {
     "data": {
      "text/plain": [
       "True"
      ]
     },
     "execution_count": 5,
     "metadata": {},
     "output_type": "execute_result"
    }
   ],
   "source": [
    "# 2 c)\n",
    "colored_img = cv2.imread(os.path.join(dataDir, 'ml.jpg'))\n",
    "cv2.imshow(\"Colored image\", colored_img)\n",
    "\n",
    "# Convert to grayscale\n",
    "grayscale_img = cv2.cvtColor(colored_img, cv2.COLOR_BGR2GRAY)\n",
    "cv2.imshow(\"Grayscale image\", grayscale_img)\n",
    "\n",
    "cv2.waitKey(0)\n",
    "cv2.destroyWindow(\"Colored image\")\n",
    "cv2.destroyWindow(\"Grayscale image\")\n",
    "\n",
    "cv2.imwrite(os.path.join(dataDir, 'ml_grayscale.jpg'), grayscale_img)"
   ]
  },
  {
   "cell_type": "code",
   "execution_count": 7,
   "metadata": {},
   "outputs": [],
   "source": [
    "# 2 d)\n",
    "colored_img = cv2.imread(os.path.join(dataDir, 'ml.jpg'), cv2.IMREAD_GRAYSCALE)\n",
    "\n",
    "# Start by getting the dimensions of the image\n",
    "h, w = colored_img.shape\n",
    "\n",
    "# Total number of noisy points = 10% of the total number of pixels\n",
    "num_noisy = h * w * 0.1\n",
    "\n",
    "# Randomly select the number of white points\n",
    "num_white = np.random.randint(0, num_noisy)\n",
    "num_black = int(num_noisy - num_white)\n",
    "\n",
    "# Create a list of coordinates for the white points\n",
    "white_coords = [(np.random.randint(0, h), np.random.randint(0, w)) for i in range(num_white)]\n",
    "black_coords = [(np.random.randint(0, h), np.random.randint(0, w)) for i in range(num_black)]\n",
    "\n",
    "# Since it's a grayscale image, each pixel is represented by a single value\n",
    "# Set the white points to 255\n",
    "for coord in white_coords:\n",
    "    colored_img[coord] = 255\n",
    "# Set the black points to 0\n",
    "for coord in black_coords:\n",
    "    colored_img[coord] = 0\n",
    "\n",
    "cv2.imshow(\"Noisy image\", colored_img)\n",
    "\n",
    "# Store the noisy image\n",
    "cv2.imwrite(os.path.join(dataDir, 'ml_noisy.jpg'), colored_img)\n",
    "\n",
    "cv2.waitKey(0)\n",
    "cv2.destroyWindow(\"Noisy image\")\n",
    "\n",
    "\n"
   ]
  },
  {
   "cell_type": "code",
   "execution_count": 10,
   "metadata": {},
   "outputs": [],
   "source": [
    "# 2 e)\n",
    "colored_img = cv2.imread(os.path.join(dataDir, 'rgb_rectangles.png'))\n",
    "\n",
    "# Split the image into its color channels\n",
    "b, g, r = cv2.split(colored_img)\n",
    "\n",
    "# Show each channel\n",
    "cv2.imshow(\"Blue channel\", b)\n",
    "cv2.imshow(\"Green channel\", g)\n",
    "cv2.imshow(\"Red channel\", r)\n",
    "\n",
    "# Destroy the windows\n",
    "cv2.waitKey(0)\n",
    "cv2.destroyWindow(\"Blue channel\")\n",
    "cv2.destroyWindow(\"Green channel\")\n",
    "cv2.destroyWindow(\"Red channel\")\n",
    "\n",
    "# Add a constant value to the green channel\n",
    "g = g + 100\n",
    "\n",
    "# Merge the channels\n",
    "colored_img = cv2.merge((b, g, r))\n",
    "\n",
    "# Show the image\n",
    "cv2.imshow(\"Modified image\", colored_img)\n",
    "cv2.waitKey(0)\n",
    "cv2.destroyWindow(\"Modified image\")\n",
    "\n"
   ]
  },
  {
   "cell_type": "code",
   "execution_count": 12,
   "metadata": {},
   "outputs": [],
   "source": [
    "# 2 f)\n",
    "colored_img = cv2.imread(os.path.join(dataDir, 'rgb_rectangles.png'))\n",
    "\n",
    "# Convert it to HSV\n",
    "hsv_img = cv2.cvtColor(colored_img, cv2.COLOR_BGR2HSV)\n",
    "# Split the image into its channels (HSV)\n",
    "h, s, v = cv2.split(hsv_img)\n",
    "\n",
    "# Show each channel\n",
    "cv2.imshow(\"Hue channel\", h)\n",
    "cv2.imshow(\"Saturation channel\", s)\n",
    "cv2.imshow(\"Value channel\", v)\n",
    "\n",
    "# Destroy the windows\n",
    "cv2.waitKey(0)\n",
    "cv2.destroyWindow(\"Hue channel\")\n",
    "cv2.destroyWindow(\"Saturation channel\")\n",
    "cv2.destroyWindow(\"Value channel\")\n",
    "\n",
    "# Add a constant value to the saturation channel\n",
    "s = s + 50\n",
    "# Merge the channels back together\n",
    "hsv_img = cv2.merge((h, s, v))\n",
    "\n",
    "# Show the resulting image\n",
    "cv2.imshow(\"Modified image\", hsv_img)\n",
    "cv2.waitKey(0)\n",
    "cv2.destroyWindow(\"Modified image\")\n"
   ]
  },
  {
   "cell_type": "markdown",
   "metadata": {},
   "source": [
    "3. Video – acquisition and simple processing"
   ]
  },
  {
   "cell_type": "code",
   "execution_count": 2,
   "metadata": {},
   "outputs": [],
   "source": [
    "# Define a VideoCapture Object\n",
    "cap = cv2.VideoCapture(0)\n",
    "if not cap.isOpened():\n",
    "    print(\"Cannot open camera\")\n",
    "    exit()\n",
    "\n",
    "frame_nr = 0\n",
    "while True:\n",
    "    # Capture frame-by-frame\n",
    "    ret, frame = cap.read()\n",
    "    \n",
    "    # If frame is read correctly ret is True\n",
    "    if not ret:\n",
    "        print(\"Can't receive frame (stream end?). Exiting ...\")\n",
    "        break\n",
    "\n",
    "    # Display the resulting frame\n",
    "    cv2.imshow('webcam', frame)\n",
    "\n",
    "    # Wait for user to press s to save frame\n",
    "    if cv2.waitKey(1) == ord('s'):\n",
    "        frame_name = 'frame' + str(frame_nr) + '.png'\n",
    "        cv2.imwrite(os.path.join(dataDir, frame_name), frame)\n",
    "        cv2.imshow(\"Saved frame: \" + frame_name, frame)\n",
    "        cv2.waitKey(0)\n",
    "        cv2.destroyWindow(\"Saved frame: \" + frame_name)\n",
    "\n",
    "    # Wait for user to press q to quit\n",
    "    if cv2.waitKey(1) == ord('q'):\n",
    "        break\n",
    "\n",
    "    frame_nr += 1\n",
    "\n",
    "# When everything is done, release the capture\n",
    "cap.release()\n",
    "cv2.destroyAllWindows()"
   ]
  },
  {
   "cell_type": "code",
   "execution_count": 3,
   "metadata": {},
   "outputs": [],
   "source": [
    "# Continue exercises 3 b), c) and d)\n",
    "# 3 b)\n",
    "# Define a VideoCapture Object\n",
    "cap = cv2.VideoCapture(0)\n",
    "if not cap.isOpened():\n",
    "    print(\"Cannot open camera\")\n",
    "    exit()\n",
    "\n",
    "frame_nr = 0\n",
    "while True:\n",
    "    # Capture frame-by-frame\n",
    "    ret, frame = cap.read()\n",
    "    \n",
    "    # If frame is read correctly ret is True\n",
    "    if not ret:\n",
    "        print(\"Can't receive frame (stream end?). Exiting ...\")\n",
    "        break\n",
    "\n",
    "    # Display the resulting frame\n",
    "    cv2.imshow('webcam', frame)\n",
    "\n",
    "    # Convert the resulting frame to grayscale\n",
    "    gray_frame = cv2.cvtColor(frame, cv2.COLOR_BGR2GRAY)\n",
    "    # Show the grayscale frame\n",
    "    cv2.imshow('grayscale webcam', gray_frame)\n",
    "\n",
    "    # Wait for user to press q to quit\n",
    "    if cv2.waitKey(1) == ord('q'):\n",
    "        break\n",
    "\n",
    "    frame_nr += 1\n",
    "\n",
    "# When everything is done, release the capture\n",
    "cap.release()\n",
    "cv2.destroyAllWindows()"
   ]
  },
  {
   "cell_type": "code",
   "execution_count": 5,
   "metadata": {},
   "outputs": [],
   "source": [
    "# 3 c)\n",
    "cap = cv2.VideoCapture(0)\n",
    "if not cap.isOpened():\n",
    "    print(\"Cannot open camera\")\n",
    "    exit()\n",
    "\n",
    "frame_nr = 0\n",
    "while True:\n",
    "    # Capture frame-by-frame\n",
    "    ret, frame = cap.read()\n",
    "    \n",
    "    # If frame is read correctly ret is True\n",
    "    if not ret:\n",
    "        print(\"Can't receive frame (stream end?). Exiting ...\")\n",
    "        break\n",
    "\n",
    "    # Display the resulting frame\n",
    "    cv2.imshow('webcam', frame)\n",
    "\n",
    "    # Convert the resulting frame to grayscale\n",
    "    gray_frame = cv2.cvtColor(frame, cv2.COLOR_BGR2GRAY)\n",
    "    # Convert the grayscale frame to binary\n",
    "    ret, binary_frame = cv2.threshold(gray_frame, 128, 255, cv2.THRESH_BINARY)\n",
    "    if not ret:\n",
    "        print(\"Can't threshold frame. Exiting ...\")\n",
    "        break\n",
    "    \n",
    "    # Show the binary frame\n",
    "    cv2.imshow('binary webcam', binary_frame)\n",
    "\n",
    "    # Wait for user to press q to quit\n",
    "    if cv2.waitKey(1) == ord('q'):\n",
    "        break\n",
    "\n",
    "    frame_nr += 1\n",
    "\n",
    "# When everything is done, release the capture\n",
    "cap.release()\n",
    "cv2.destroyAllWindows()\n"
   ]
  },
  {
   "cell_type": "code",
   "execution_count": 5,
   "metadata": {},
   "outputs": [],
   "source": [
    "# 3 d)\n",
    "# Define a VideoCapture Object\n",
    "cap = cv2.VideoCapture(0)\n",
    "if not cap.isOpened():\n",
    "    print(\"Cannot open camera\")\n",
    "    exit()\n",
    "\n",
    "frame_nr = 0\n",
    "while True:\n",
    "    # Capture frame-by-frame\n",
    "    ret, frame = cap.read()\n",
    "    \n",
    "    # If frame is read correctly ret is True\n",
    "    if not ret:\n",
    "        print(\"Can't receive frame (stream end?). Exiting ...\")\n",
    "        break\n",
    "\n",
    "    # Display the resulting frame\n",
    "    cv2.imshow('webcam', frame)\n",
    "\n",
    "    # Convert from BGR to HSV\n",
    "    hsv_frame = cv2.cvtColor(frame, cv2.COLOR_BGR2HSV)\n",
    "    # Threshold the HSV image to only get Blue colors\n",
    "    # Since each HSV channel is represented by a 8-bit integer, the range of values is [0, 180] (value is / 2)\n",
    "    # So the Hue range is actually [210, 260]\n",
    "    lower_blue = np.array([105, 50, 50])\n",
    "    upper_blue = np.array([130, 255, 255])\n",
    "    mask = cv2.inRange(hsv_frame, lower_blue, upper_blue)\n",
    "\n",
    "    # Bitwise-AND mask and original image\n",
    "    # Since the mask is binary, we cannot use the mask directly in the bitwise_and operation\n",
    "    res = cv2.bitwise_and(frame, frame, mask=mask)\n",
    "\n",
    "    # Show the resulting frame\n",
    "    cv2.imshow('webcam with blue mask', res)\n",
    "\n",
    "    # Wait for user to press q to quit\n",
    "    if cv2.waitKey(1) == ord('q'):\n",
    "        break\n",
    "\n",
    "    frame_nr += 1\n",
    "\n",
    "# When everything is done, release the capture\n",
    "cap.release()\n",
    "cv2.destroyAllWindows()"
   ]
  },
  {
   "attachments": {},
   "cell_type": "markdown",
   "metadata": {},
   "source": [
    "4. Image enhancement - filtering"
   ]
  },
  {
   "cell_type": "code",
   "execution_count": 8,
   "metadata": {},
   "outputs": [],
   "source": [
    "# 4 a)\n",
    "# Read the noisy image\n",
    "noisy_img = cv2.imread(os.path.join(dataDir, 'butterfly_noisy.jpg'))\n",
    "\n",
    "MAX_KERNEL_LENGTH = 9\n",
    "\n",
    "# Apply a mean filter\n",
    "for i in range(1, MAX_KERNEL_LENGTH, 2):\n",
    "    mean_filtered_img = cv2.blur(noisy_img, (i, i))\n",
    "\n",
    "    # Show the resulting image\n",
    "    cv2.imshow(\"Mean filtered image \" + str(i), mean_filtered_img)\n",
    "\n",
    "cv2.waitKey(0)\n",
    "cv2.destroyAllWindows()"
   ]
  },
  {
   "cell_type": "code",
   "execution_count": 9,
   "metadata": {},
   "outputs": [],
   "source": [
    "# 4 b)\n",
    "\n",
    "MAX_KERNEL_LENGTH = 9\n",
    "\n",
    "# For different kernel lengths\n",
    "for i in range(1, MAX_KERNEL_LENGTH, 2):\n",
    "    # Apply a gaussian filter\n",
    "    gaussian_filtered_img = cv2.GaussianBlur(noisy_img, (5, 5), 0)\n",
    "\n",
    "    # Show the resulting image\n",
    "    cv2.imshow(\"Gaussian filtered image \" + str(i), gaussian_filtered_img)\n",
    "\n",
    "cv2.waitKey(0)\n",
    "cv2.destroyAllWindows()"
   ]
  },
  {
   "cell_type": "code",
   "execution_count": 11,
   "metadata": {},
   "outputs": [],
   "source": [
    "# 4 c)\n",
    "\n",
    "MAX_KERNEL_LENGTH = 9\n",
    "\n",
    "# For different kernel lengths\n",
    "for i in range(1, MAX_KERNEL_LENGTH, 2):\n",
    "    # Apply a median filter\n",
    "    median_filtered_img = cv2.medianBlur(noisy_img, i)\n",
    "\n",
    "    # Show the resulting image\n",
    "    cv2.imshow(\"Median filtered image \" + str(i), median_filtered_img)\n",
    "\n",
    "cv2.waitKey(0)\n",
    "cv2.destroyAllWindows()"
   ]
  },
  {
   "cell_type": "code",
   "execution_count": 13,
   "metadata": {},
   "outputs": [],
   "source": [
    "# 4 d)\n",
    "MAX_KERNEL_LENGTH = 9\n",
    "\n",
    "# For different kernel lengths\n",
    "for i in range(1, MAX_KERNEL_LENGTH, 2):\n",
    "    # Apply a bilateral filter\n",
    "    bilateral_filtered_img = cv2.bilateralFilter(noisy_img, i, i*2, i/2)\n",
    "\n",
    "    # Show the resulting image\n",
    "    cv2.imshow(\"Bilateral filtered image \" + str(i), bilateral_filtered_img)\n",
    "\n",
    "cv2.waitKey(0)\n",
    "cv2.destroyAllWindows()"
   ]
  },
  {
   "cell_type": "code",
   "execution_count": 17,
   "metadata": {},
   "outputs": [
    {
     "name": "stdout",
     "output_type": "stream",
     "text": [
      "[[0.0625 0.125  0.0625]\n",
      " [0.125  0.25   0.125 ]\n",
      " [0.0625 0.125  0.0625]]\n"
     ]
    }
   ],
   "source": [
    "# 4 e)\n",
    "import os\n",
    "from matplotlib import pyplot as plt\n",
    "from scipy import ndimage\n",
    "\n",
    "# Read image\n",
    "img = cv2.imread(os.path.join(dataDir,'butterfly_noisy.jpg')) \n",
    "# Convert to grayscale if needed\n",
    "img = cv2.cvtColor(img, cv2.COLOR_BGR2GRAY)\n",
    "# Smooth using OpenCVGaussianBlur()\n",
    "gaussianBlurred = cv2.GaussianBlur(img, (3 ,3 ), 0 )\n",
    "# Smooth using convolution operation coded below\n",
    "kernel_3x3 = (1 /16)* np.array([[1 , 2 , 1 ],[2 , 4 , 2 ],[1 , 2 , 1 ]])\n",
    "print(kernel_3x3)\n",
    "myConvolutionResult = ndimage.convolve(img, kernel_3x3)\n",
    "# Show res ults\n",
    "cv2.imshow(\"Original\" , img)\n",
    "cv2.imshow(\"OpenCV Gaussian Blur\" , gaussianBlurred)\n",
    "cv2.imshow(\"My 3x3 convolution w/Gaussian mask\" , myConvolutionResult)\n",
    "cv2.waitKey(0)\n",
    "cv2.destroyAllWindows()"
   ]
  },
  {
   "cell_type": "code",
   "execution_count": null,
   "metadata": {},
   "outputs": [],
   "source": []
  }
 ],
 "metadata": {
  "kernelspec": {
   "display_name": "base",
   "language": "python",
   "name": "python3"
  },
  "language_info": {
   "codemirror_mode": {
    "name": "ipython",
    "version": 3
   },
   "file_extension": ".py",
   "mimetype": "text/x-python",
   "name": "python",
   "nbconvert_exporter": "python",
   "pygments_lexer": "ipython3",
   "version": "3.9.12"
  },
  "vscode": {
   "interpreter": {
    "hash": "6f87761e9bbb4702bed86fcb6eaee0e223d39ee952a340c687ff9c7dfa805330"
   }
  }
 },
 "nbformat": 4,
 "nbformat_minor": 2
}
