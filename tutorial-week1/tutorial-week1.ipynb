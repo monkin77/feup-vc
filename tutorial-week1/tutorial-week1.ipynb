{
 "cells": [
  {
   "cell_type": "markdown",
   "metadata": {},
   "source": [
    "# Week 1: Introduction to OpenCV"
   ]
  },
  {
   "cell_type": "code",
   "execution_count": null,
   "metadata": {},
   "outputs": [],
   "source": [
    "# Requirements for this tutorial\n",
    "! pip install opencv-python\n",
    "! pip install numpy"
   ]
  },
  {
   "cell_type": "code",
   "execution_count": null,
   "metadata": {},
   "outputs": [],
   "source": [
    "# If you prefer, you can convert this notebook to a Python script by uncommenting the following command\n",
    "# ! pip install nbconvert\n",
    "# ! jupyter nbconvert --to script tutorial-week1.ipynb"
   ]
  },
  {
   "cell_type": "code",
   "execution_count": 2,
   "metadata": {},
   "outputs": [],
   "source": [
    "import cv2\n",
    "import numpy as np\n",
    "import os\n",
    "\n",
    "dataDir = './data'"
   ]
  },
  {
   "cell_type": "markdown",
   "metadata": {},
   "source": [
    "1. Images – read, write and display; ROIs"
   ]
  },
  {
   "cell_type": "code",
   "execution_count": 3,
   "metadata": {},
   "outputs": [],
   "source": [
    "# Opening an image\n",
    "img = cv2.imread(os.path.join(dataDir, 'ml.jpg'))\n",
    "\n",
    "# Showing the image\n",
    "cv2.imshow(\"ml.jpg\", img)\n",
    "\n",
    "# Waiting for user to press a key to close the image\n",
    "cv2.waitKey(0)\n",
    "\n",
    "# Close the window after user pressed a key\n",
    "cv2.destroyWindow(\"ml.jpg\")"
   ]
  },
  {
   "cell_type": "code",
   "execution_count": null,
   "metadata": {},
   "outputs": [],
   "source": [
    "# Check image size\n",
    "h, w, c = img.shape\n",
    "print(f'height: {h}')\n",
    "print(f'width: {w}')\n",
    "print(f'channels: {c}')"
   ]
  },
  {
   "cell_type": "code",
   "execution_count": null,
   "metadata": {},
   "outputs": [],
   "source": [
    "# Saving image in bmp format\n",
    "cv2.imwrite(os.path.join(dataDir, 'ml_new.bmp'), img)"
   ]
  },
  {
   "cell_type": "code",
   "execution_count": null,
   "metadata": {},
   "outputs": [],
   "source": [
    "# Continue exercises 1 c) and d)\n",
    "\n",
    "draw = False\n",
    "\n",
    "# Mouse Callback on click\n",
    "def mouseCallback(event, x, y, flags, params):\n",
    "    global draw     # use global variable draw\n",
    "\n",
    "    if event == cv2.EVENT_LBUTTONDOWN:\n",
    "        draw = True\n",
    "    if event == cv2.EVENT_LBUTTONUP:\n",
    "        draw = False\n",
    "    if event == cv2.EVENT_MOUSEMOVE:\n",
    "        # In OpenCV, the color channels are in Blue Green Red order\n",
    "        colorsB = img[y, x, 0]\n",
    "        colorsG = img[y, x, 1]\n",
    "        colorsR = img[y, x, 2]\n",
    "        print(f'x: {x}, y: {y}')\n",
    "        print(f'BGR: ({colorsB}, {colorsG}, {colorsR})')\n",
    "        # cv2.putText(img=img, text=f'BGR: ({colorsB}, {colorsG}, {colorsR})', org=(300, 300), fontFace=cv2.FONT_HERSHEY_SIMPLEX, fontScale=1, color=(0, 0, 0), thickness=2, lineType=cv2.LINE_AA)\n",
    "\n",
    "        if draw:\n",
    "            # modify rgb values\n",
    "            newColor = (255 - img[y, x, 0], 255 - img[y, x, 1], 255 - img[y, x, 2])\n",
    "            img[y, x] = newColor\n",
    "        \n",
    "            print(f'Changed pixel at x: {x}, y: {y} to {newColor}')\n",
    "            cv2.imshow(\"ex1c\", img)\n",
    "    \n",
    "# Create named window and set mouse callback\n",
    "cv2.namedWindow(\"ex1c\")\n",
    "cv2.setMouseCallback(\"ex1c\", mouseCallback)\n",
    "\n",
    "cv2.imshow(\"ex1c\", img)\n",
    "cv2.waitKey(0)\n",
    "cv2.destroyWindow(\"ex1c\")"
   ]
  },
  {
   "cell_type": "code",
   "execution_count": 4,
   "metadata": {},
   "outputs": [
    {
     "name": "stdout",
     "output_type": "stream",
     "text": [
      "x: 95, y: 92\n",
      "p1: (95, 92)\n",
      "x: 245, y: 348\n",
      "p2: (245, 348)\n"
     ]
    }
   ],
   "source": [
    "# Exercise 1d)\n",
    "\n",
    "p1 = (-1, -1)\n",
    "p2 = (-1, -1)\n",
    "        \n",
    "\n",
    "# Create named window and set mouse callback\n",
    "cv2.namedWindow(\"ex1d\")\n",
    "\n",
    "# Select ROI\n",
    "Rect2d r = cv2.selectROI(img)\n",
    "# Crop image\n",
    "imCrop = img\n",
    "# Display cropped image\n",
    "cv2.imshow(\"ex1d_cropped\", imCrop)\n",
    "cv2.waitKey(0)\n",
    "\n",
    "cv2.imshow(\"ex1d\", img)\n",
    "cv2.waitKey(0)\n",
    "cv2.destroyWindow(\"ex1d\")\n"
   ]
  },
  {
   "cell_type": "markdown",
   "metadata": {},
   "source": [
    "2. Images – representation, grayscale and color, color spaces"
   ]
  },
  {
   "cell_type": "code",
   "execution_count": null,
   "metadata": {},
   "outputs": [],
   "source": [
    "# Create a white image\n",
    "m = np.ones((100,200,1), np.uint8)\n",
    "\n",
    "# Change the intensity to 100\n",
    "m = m * 100\n",
    "\n",
    "# Display the image\n",
    "cv2.imshow('Grayscale image', m)\n",
    "cv2.waitKey(0)\n",
    "cv2.destroyWindow('Grayscale image')"
   ]
  },
  {
   "cell_type": "code",
   "execution_count": null,
   "metadata": {},
   "outputs": [],
   "source": [
    "# Draw a line with thickness of 5 px\n",
    "cv2.line(m, (0,0), (100,200), 255, 5)\n",
    "cv2.line(m, (200, 0), (0, 100), 255, 5)\n",
    "cv2.imshow('Grayscale image with diagonals', m)\n",
    "cv2.waitKey(0)\n",
    "cv2.destroyWindow('Grayscale image with diagonals')"
   ]
  },
  {
   "cell_type": "code",
   "execution_count": null,
   "metadata": {},
   "outputs": [],
   "source": [
    "# Continue exercises 2 b), c), d), e) and f)"
   ]
  },
  {
   "cell_type": "markdown",
   "metadata": {},
   "source": [
    "3. Video – acquisition and simple processing"
   ]
  },
  {
   "cell_type": "code",
   "execution_count": null,
   "metadata": {},
   "outputs": [],
   "source": [
    "# Define a VideoCapture Object\n",
    "cap = cv2.VideoCapture(0)\n",
    "if not cap.isOpened():\n",
    "    print(\"Cannot open camera\")\n",
    "    exit()\n",
    "\n",
    "frame_nr = 0\n",
    "while True:\n",
    "    # Capture frame-by-frame\n",
    "    ret, frame = cap.read()\n",
    "    \n",
    "    # If frame is read correctly ret is True\n",
    "    if not ret:\n",
    "        print(\"Can't receive frame (stream end?). Exiting ...\")\n",
    "        break\n",
    "\n",
    "    # Display the resulting frame\n",
    "    cv2.imshow('webcam', frame)\n",
    "\n",
    "    # Wait for user to press s to save frame\n",
    "    if cv2.waitKey(1) == ord('s'):\n",
    "        frame_name = 'frame' + str(frame_nr) + '.png'\n",
    "        cv2.imwrite(frame_name, frame)\n",
    "        cv2.imshow(\"Saved frame: \" + frame_name, frame)\n",
    "        cv2.waitKey(0)\n",
    "        cv2.destroyWindow(\"Saved frame: \" + frame_name)\n",
    "\n",
    "    # Wait for user to press q to quit\n",
    "    if cv2.waitKey(1) == ord('q'):\n",
    "        break\n",
    "\n",
    "    frame_nr += 1\n",
    "\n",
    "# When everything is done, release the capture\n",
    "cap.release()\n",
    "cv2.destroyAllWindows()"
   ]
  },
  {
   "cell_type": "code",
   "execution_count": null,
   "metadata": {},
   "outputs": [],
   "source": [
    "# Continue exercises 3 b), c) and d)"
   ]
  }
 ],
 "metadata": {
  "kernelspec": {
   "display_name": "Python 3",
   "language": "python",
   "name": "python3"
  },
  "language_info": {
   "codemirror_mode": {
    "name": "ipython",
    "version": 3
   },
   "file_extension": ".py",
   "mimetype": "text/x-python",
   "name": "python",
   "nbconvert_exporter": "python",
   "pygments_lexer": "ipython3",
   "version": "3.8.2"
  },
  "vscode": {
   "interpreter": {
    "hash": "9650cb4e16cdd4a8e8e2d128bf38d875813998db22a3c986335f89e0cb4d7bb2"
   }
  }
 },
 "nbformat": 4,
 "nbformat_minor": 2
}
